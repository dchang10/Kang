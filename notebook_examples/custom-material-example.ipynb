{
 "cells": [
  {
   "cell_type": "markdown",
   "source": [
    "# Defining a Custom Material and Saving Output\n",
    "We will define a redshift material for raytracing, and export the raytraced quantities to a .npy file."
   ],
   "metadata": {}
  },
  {
   "outputs": [],
   "cell_type": "code",
   "source": [
    "using Krang"
   ],
   "metadata": {},
   "execution_count": 1
  },
  {
   "cell_type": "markdown",
   "source": [
    "Materials should be functors (i.e. types with callable objects).\n",
    "Our material will raytrace the redshifts associated with a zero angular momentum observer (ZAMO) on a cone for a given sub-image.\n",
    "If the cone is self obscuring, then only the redshift on the side that is closest to the observer will be raytraced."
   ],
   "metadata": {}
  },
  {
   "outputs": [],
   "cell_type": "code",
   "source": [
    "struct ZAMORedshifts{T} <: Krang.AbstractMaterial\n",
    "    n::Int\n",
    "    rmin::T\n",
    "    rmax::T\n",
    "end"
   ],
   "metadata": {},
   "execution_count": 2
  },
  {
   "cell_type": "markdown",
   "source": [
    "Define the function for the material.\n",
    "This functor will take in a pixel and a geometry and return the redshift associated with a given sub image.\n",
    "You must include the relevant physics in the functor definition.\n",
    "Here we will include redshift effects associated with a zero angular momentum observer (ZAMO)."
   ],
   "metadata": {}
  },
  {
   "outputs": [],
   "cell_type": "code",
   "source": [
    "function (m::ZAMORedshifts)(pix::Krang.AbstractPixel, geometry::Krang.ConeGeometry{T,A}) where {T,A}\n",
    "\n",
    "    observation = zero(T)\n",
    "    α,β = Krang.screen_coordinate(pix)\n",
    "\n",
    "    θs = geometry.opening_angle\n",
    "    isindir = false\n",
    "    for _ in 1:2\n",
    "        isindir ⊻= true\n",
    "        rs, νr, νθ, _, issuccess = emission_radius(pix, geometry.opening_angle, isindir, m.n)\n",
    "        if issuccess && m.rmin ≤ rs < m.rmax\n",
    "            ηtemp = η(metric, α, β, θo)\n",
    "            λtemp = λ(metric, α, θo)\n",
    "            curr_p_bl_d = p_bl_d(metric, rs, θs, ηtemp, λtemp, νr, νθ)\n",
    "\n",
    "            curr_p_bl_u = metric_uu(metric, rs, θs) * curr_p_bl_d\n",
    "            p_zamo_u = jac_zamo_u_bl_d(metric, rs, θs) * curr_p_bl_u\n",
    "            redshift = inv(p_zamo_u[1])\n",
    "\n",
    "            observation = max(redshift, eps(T))^(T(3))\n",
    "        end\n",
    "    end\n",
    "    return observation\n",
    "end"
   ],
   "metadata": {},
   "execution_count": 3
  },
  {
   "cell_type": "markdown",
   "source": [
    "We will use a $0.94$ spin Kerr black hole viewed by an asymptotic observer at an inclination angle of $θo=17^\\circ$.\n",
    "The emission to be raytraced is"
   ],
   "metadata": {}
  },
  {
   "outputs": [],
   "cell_type": "code",
   "source": [
    "metric = Krang.Kerr(0.99);\n",
    "θo = 17 * π / 180;\n",
    "ρmax = 15.0;\n",
    "rmin = Krang.horizon(metric); # minimum radius to truncate cone\n",
    "rmax = 10.0; # maximum radius to truncate cone\n",
    "n = 1; # sub-image to raytrace"
   ],
   "metadata": {},
   "execution_count": 4
  },
  {
   "cell_type": "markdown",
   "source": [
    "Let's create a camera with a resolution of 400x400 pixels and our mesh."
   ],
   "metadata": {}
  },
  {
   "outputs": [
    {
     "output_type": "execute_result",
     "data": {
      "text/plain": "(Krang.Mesh{Krang.ConeGeometry{Float64, Nothing}, Main.var\"##239\".ZAMORedshifts{Float64}}(Krang.ConeGeometry{Float64, Nothing}(1.3089969389957472, nothing), Main.var\"##239\".ZAMORedshifts{Float64}(1, 1.141067359796659, 10.0)),)"
     },
     "metadata": {},
     "execution_count": 5
    }
   ],
   "cell_type": "code",
   "source": [
    "camera = Krang.IntensityCamera(metric, θo, -ρmax, ρmax, -ρmax, ρmax, 400);\n",
    "mesh = Krang.Mesh(Krang.ConeGeometry((75 * π / 180)), ZAMORedshifts(n, rmin, rmax))\n",
    "scene = Krang.Scene((mesh,))"
   ],
   "metadata": {},
   "execution_count": 5
  },
  {
   "cell_type": "markdown",
   "source": [
    "Finally, we will render the scene with the camera and plot the redshifts."
   ],
   "metadata": {}
  },
  {
   "outputs": [
    {
     "name": "stdout",
     "output_type": "stream",
     "text": [
      "┌ Warning: Found `resolution` in the theme when creating a `Scene`. The `resolution` keyword for `Scene`s and `Figure`s has been deprecated. Use `Figure(; size = ...` or `Scene(; size = ...)` instead, which better reflects that this is a unitless size and not a pixel resolution. The key could also come from `set_theme!` calls or related theming functions.\n",
      "└ @ Makie ~/.julia/packages/Makie/YkotL/src/scenes.jl:229\n"
     ]
    },
    {
     "output_type": "execute_result",
     "data": {
      "text/plain": "CairoMakie.Screen{IMAGE}\n"
     },
     "metadata": {},
     "execution_count": 6
    }
   ],
   "cell_type": "code",
   "source": [
    "redshifts = render(camera, scene)\n",
    "\n",
    "import CairoMakie as CMk\n",
    "\n",
    "theme = CMk.Theme(\n",
    "    Axis = (\n",
    "        xticksvisible = false,\n",
    "        xticklabelsvisible = false,\n",
    "        yticksvisible = false,\n",
    "        yticklabelsvisible = false,\n",
    "        ),\n",
    ")\n",
    "\n",
    "CMk.set_theme!(CMk.merge!(theme, CMk.theme_latexfonts()))\n",
    "\n",
    "fig = CMk.Figure(resolution=(700, 700));\n",
    "ax = CMk.Axis(fig[1, 1], title=\"Redshifts\", titlesize=20, aspect=1)\n",
    "hm = CMk.heatmap!(ax, redshifts, colormap=:afmhot)\n",
    "CMk.Colorbar(fig[1, 2], hm, label=\"Redshifts\", labelsize=20)\n",
    "CMk.save(\"redshifts.png\", fig)"
   ],
   "metadata": {},
   "execution_count": 6
  },
  {
   "cell_type": "markdown",
   "source": [
    "![redshifts](redshifts.png)"
   ],
   "metadata": {}
  },
  {
   "cell_type": "markdown",
   "source": [
    "Saving the redshifts to a .npy file"
   ],
   "metadata": {}
  },
  {
   "outputs": [],
   "cell_type": "code",
   "source": [
    "using NPZ\n",
    "npzwrite(\"redshifts_n1.npy\", redshifts)"
   ],
   "metadata": {},
   "execution_count": 7
  },
  {
   "cell_type": "markdown",
   "source": [
    "---\n",
    "\n",
    "*This notebook was generated using [Literate.jl](https://github.com/fredrikekre/Literate.jl).*"
   ],
   "metadata": {}
  }
 ],
 "nbformat_minor": 3,
 "metadata": {
  "language_info": {
   "file_extension": ".jl",
   "mimetype": "application/julia",
   "name": "julia",
   "version": "1.10.5"
  },
  "kernelspec": {
   "name": "julia-1.10",
   "display_name": "Julia 1.10.5",
   "language": "julia"
  }
 },
 "nbformat": 4
}
