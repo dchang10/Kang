{
 "cells": [
  {
   "cell_type": "markdown",
   "source": [
    "# Creating a Custom Dual Cone Model"
   ],
   "metadata": {}
  },
  {
   "cell_type": "markdown",
   "source": [
    "We will define a custom model for low luminosity active galactice nuclei (LLAGN).\n",
    "A detailed description of the model can be found in this [reference](https://doi.org/10.48550/arXiv.2405.04749).\n",
    "We will show the emission of the n=0 (direct) and n=1 (indirect) photons as they are emitted from the\n",
    "source, at a fixed inclination angle from the black hole's spin axis.\n",
    "\n",
    "First, let's import Krang and CairoMakie for plotting."
   ],
   "metadata": {}
  },
  {
   "outputs": [],
   "cell_type": "code",
   "source": [
    "using Krang\n",
    "using CairoMakie\n",
    "\n",
    "curr_theme = Theme(\n",
    "    Axis = (\n",
    "        xticksvisible = false,\n",
    "        xticklabelsvisible = false,\n",
    "        yticksvisible = false,\n",
    "        yticklabelsvisible = false,\n",
    "        ),\n",
    ")\n",
    "set_theme!(merge!(curr_theme, theme_latexfonts()))"
   ],
   "metadata": {},
   "execution_count": 1
  },
  {
   "cell_type": "markdown",
   "source": [
    "We will use a $0.94$ spin Kerr black hole viewed by an asymptotic observer at an inclination angle of $θo=17^\\circ$.\n",
    "The emission to be raytraced is"
   ],
   "metadata": {}
  },
  {
   "outputs": [],
   "cell_type": "code",
   "source": [
    "metric = Krang.Kerr(0.94);\n",
    "θo = 17 * π / 180;\n",
    "ρmax = 10.0;"
   ],
   "metadata": {},
   "execution_count": 2
  },
  {
   "cell_type": "markdown",
   "source": [
    "Let's create a camera with a resolution of 400x400 pixels"
   ],
   "metadata": {}
  },
  {
   "outputs": [],
   "cell_type": "code",
   "source": [
    "camera = Krang.IntensityCamera(metric, θo, -ρmax, ρmax, -ρmax, ρmax, 400);"
   ],
   "metadata": {},
   "execution_count": 3
  },
  {
   "cell_type": "markdown",
   "source": [
    "We will need to create `Mesh` objects to render the scene.\n",
    "First we will create the material for the mesh.\n",
    "Our material will be the `ElectronSynchrotronPowerLawPolarization` material with the following parameters."
   ],
   "metadata": {}
  },
  {
   "outputs": [
    {
     "output_type": "execute_result",
     "data": {
      "text/plain": "0.49711397971621274"
     },
     "metadata": {},
     "execution_count": 4
    }
   ],
   "cell_type": "code",
   "source": [
    "χ = -1.705612782769303\n",
    "ι = 0.5807355065517938\n",
    "βv = 0.8776461626924748\n",
    "σ = 0.7335172899224874\n",
    "η1 = 2.6444786738735804\n",
    "η2 = π-η1"
   ],
   "metadata": {},
   "execution_count": 4
  },
  {
   "cell_type": "markdown",
   "source": [
    "These will be used to define the magnetic field and fluid velocity."
   ],
   "metadata": {}
  },
  {
   "outputs": [
    {
     "output_type": "execute_result",
     "data": {
      "text/plain": "4.411852974336667"
     },
     "metadata": {},
     "execution_count": 5
    }
   ],
   "cell_type": "code",
   "source": [
    "magfield1 = Krang.SVector(sin(ι)*cos(η1), sin(ι)*sin(η1), cos(ι));\n",
    "magfield2 = Krang.SVector(sin(ι)*cos(η2), sin(ι)*sin(η2), cos(ι));\n",
    "vel = Krang.SVector(βv, (π/2), χ);\n",
    "R = 3.3266154761905455\n",
    "p1 = 4.05269835622511\n",
    "p2 = 4.411852974336667"
   ],
   "metadata": {},
   "execution_count": 5
  },
  {
   "cell_type": "markdown",
   "source": [
    "Next we will define the geometries of each mesh. We will use a `ConeGeometry` with an opening angle of $75^\\circ$.\n",
    "The additional information needed for the material will be passed as attributes to the geometry.\n",
    "This includes the sub-images to raytrace, which in our case will be the n=0 and n=1 sub-images."
   ],
   "metadata": {}
  },
  {
   "outputs": [
    {
     "output_type": "execute_result",
     "data": {
      "text/plain": "Krang.ConeGeometry{Float64, Nothing}(1.832595714594046, nothing)"
     },
     "metadata": {},
     "execution_count": 6
    }
   ],
   "cell_type": "code",
   "source": [
    "θs = (75 * π / 180)\n",
    "material1 = Krang.ElectronSynchrotronPowerLawPolarization(magfield1..., vel..., σ, R, p1, p2, (0,1,));\n",
    "geometry1 = Krang.ConeGeometry((θs))\n",
    "material2 = Krang.ElectronSynchrotronPowerLawPolarization(magfield2..., vel..., σ, R, p1, p2, (0,1,));\n",
    "geometry2 = Krang.ConeGeometry((π-θs))"
   ],
   "metadata": {},
   "execution_count": 6
  },
  {
   "cell_type": "markdown",
   "source": [
    "We will create two meshes, one for each geometry anc create a scene with both meshes."
   ],
   "metadata": {}
  },
  {
   "outputs": [
    {
     "output_type": "execute_result",
     "data": {
      "text/plain": "Krang.Mesh{Krang.ConeGeometry{Float64, Nothing}, Krang.ElectronSynchrotronPowerLawPolarization{2, Float64}}(Krang.ConeGeometry{Float64, Nothing}(1.832595714594046, nothing), Krang.ElectronSynchrotronPowerLawPolarization{2, Float64}([0.4822331381486707, 0.2616409108851046, 0.8360593485049359], [0.8776461626924748, 1.5707963267948966, -1.705612782769303], 0.7335172899224874, 3.3266154761905455, 4.05269835622511, 4.411852974336667, (0, 1)))"
     },
     "metadata": {},
     "execution_count": 7
    }
   ],
   "cell_type": "code",
   "source": [
    "mesh1 = Krang.Mesh(geometry1, material1)\n",
    "mesh2 = Krang.Mesh(geometry2, material2)"
   ],
   "metadata": {},
   "execution_count": 7
  },
  {
   "cell_type": "markdown",
   "source": [
    "Finally, we will render the scene with the camera and plot the Stokes parameters."
   ],
   "metadata": {}
  },
  {
   "outputs": [
    {
     "name": "stdout",
     "output_type": "stream",
     "text": [
      "┌ Warning: Found `resolution` in the theme when creating a `Scene`. The `resolution` keyword for `Scene`s and `Figure`s has been deprecated. Use `Figure(; size = ...` or `Scene(; size = ...)` instead, which better reflects that this is a unitless size and not a pixel resolution. The key could also come from `set_theme!` calls or related theming functions.\n",
      "└ @ Makie ~/.julia/packages/Makie/YkotL/src/scenes.jl:229\n"
     ]
    }
   ],
   "cell_type": "code",
   "source": [
    "scene = Krang.Scene((mesh1, mesh2))\n",
    "stokesvals = render(camera, scene)\n",
    "\n",
    "fig = Figure(resolution=(700, 700));\n",
    "ax1 = Axis(fig[1, 1], aspect=1, title=\"I\")\n",
    "ax2 = Axis(fig[1, 2], aspect=1, title=\"Q\")\n",
    "ax3 = Axis(fig[2, 1], aspect=1, title=\"U\")\n",
    "ax4 = Axis(fig[2, 2], aspect=1, title=\"V\")\n",
    "colormaps = [:afmhot, :redsblues, :redsblues, :redsblues]\n",
    "\n",
    "zip([ax1, ax2, ax3, ax4], [getproperty.(stokesvals,:I), getproperty.(stokesvals,:Q), getproperty.(stokesvals,:U), getproperty.(stokesvals,:V)], colormaps) .|> x->heatmap!(x[1], x[2], colormap=x[3])\n",
    "fig\n",
    "\n",
    "save(\"polarization_example.png\", fig)"
   ],
   "metadata": {},
   "execution_count": 8
  },
  {
   "cell_type": "markdown",
   "source": [
    "![polarization of emission model](polarization_example.png)"
   ],
   "metadata": {}
  },
  {
   "cell_type": "markdown",
   "source": [
    "---\n",
    "\n",
    "*This notebook was generated using [Literate.jl](https://github.com/fredrikekre/Literate.jl).*"
   ],
   "metadata": {}
  }
 ],
 "nbformat_minor": 3,
 "metadata": {
  "language_info": {
   "file_extension": ".jl",
   "mimetype": "application/julia",
   "name": "julia",
   "version": "1.10.5"
  },
  "kernelspec": {
   "name": "julia-1.10",
   "display_name": "Julia 1.10.5",
   "language": "julia"
  }
 },
 "nbformat": 4
}
