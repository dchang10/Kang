{
 "cells": [
  {
   "cell_type": "markdown",
   "source": [
    "# Neural Network Emission Model Example\n",
    "This is a pedagogical example that serves as a proof of concept.\n",
    "We will build a simple Neural Network emission model to be ray traced and optimize with ADAM algorithm."
   ],
   "metadata": {}
  },
  {
   "outputs": [
    {
     "output_type": "execute_result",
     "data": {
      "text/plain": "Random._GLOBAL_RNG()"
     },
     "metadata": {},
     "execution_count": 1
    }
   ],
   "cell_type": "code",
   "source": [
    "using Lux\n",
    "using Krang\n",
    "using Random\n",
    "Random.seed!(123)\n",
    "rng = Random.GLOBAL_RNG"
   ],
   "metadata": {},
   "execution_count": 1
  },
  {
   "cell_type": "markdown",
   "source": [
    "Our model will take in spacetime coordinates and return observed intensity value for a given pixel:\n",
    "\n",
    "We will first define a simple emisison model that will be raytraced.\n",
    "The emission model will ge taken to be a simple fully connected Neural Network with 2 hidden layers"
   ],
   "metadata": {}
  },
  {
   "outputs": [],
   "cell_type": "code",
   "source": [
    "emission_model = Chain(\n",
    "    Dense(2 => 20, Lux.sigmoid),\n",
    "    Dense(20 => 20, Lux.sigmoid),\n",
    "    Dense(20 => 1, Lux.sigmoid)\n",
    "    )\n",
    "\n",
    "ps, st = Lux.setup(rng, emission_model);"
   ],
   "metadata": {},
   "execution_count": 2
  },
  {
   "cell_type": "markdown",
   "source": [
    "We will use 0.99 spin Kerr metric with an observer sitting at 20 degrees inclination with respect to the spin axis in this example.\n",
    "These parameters could be made to float in the optimization process.\n",
    "We will do this by defining an `ImageModel` comprised of an emission layer and a raytracing layer.\n",
    "We will create a struct for our image model and store our emission model as a layer to be raytraced."
   ],
   "metadata": {}
  },
  {
   "outputs": [],
   "cell_type": "code",
   "source": [
    "struct ImageModel{T <: Chain}\n",
    "    emission_layer::T\n",
    "end"
   ],
   "metadata": {},
   "execution_count": 3
  },
  {
   "cell_type": "markdown",
   "source": [
    "The models in Lux are functors that take in features, parameters and model state, and return the output and model state."
   ],
   "metadata": {}
  },
  {
   "outputs": [],
   "cell_type": "code",
   "source": [
    "function (m::ImageModel)(x, ps, st)\n",
    "    metric = Krang.Kerr(0.99e0)\n",
    "    θo = Float64(20/180*π)\n",
    "    pixels = Krang.IntensityPixel.(Ref(metric), x[1,:], x[2,:], θo)\n",
    "\n",
    "    sze = unsafe_trunc(Int, sqrt(size(x)[2]))\n",
    "    coords = zeros(Float64, 2,sze*sze)\n",
    "    emission_vals = zeros(Float64, 1, sze*sze)\n",
    "    for n in 0:1\n",
    "        for i in 1:sze\n",
    "            for j in 1:sze\n",
    "                pix = pixels[i+(j-1)*sze]\n",
    "                α, β = Krang.screen_coordinate(pix)\n",
    "                T = typeof(α)\n",
    "                rs, _, ϕs = Krang.emission_coordinates_fast_light(pix, Float64(π/2), β > 0, n)[1:3]\n",
    "                xs = rs * cos(ϕs)\n",
    "                ys = rs * sin(ϕs)\n",
    "                if hypot(xs, ys) ≤ Krang.horizon(metric)\n",
    "                    coords[1,i+(j-1)*sze] = zero(T)\n",
    "                    coords[2,i+(j-1)*sze] = zero(T)\n",
    "                else\n",
    "                    coords[1,i+(j-1)*sze] = xs\n",
    "                    coords[2,i+(j-1)*sze] = ys\n",
    "                end\n",
    "\n",
    "            end\n",
    "        end\n",
    "        emission_vals .+= m.emission_layer(coords, ps, st)[1]\n",
    "    end\n",
    "    emission_vals,st\n",
    "end"
   ],
   "metadata": {},
   "execution_count": 4
  },
  {
   "cell_type": "markdown",
   "source": [
    "Lets create an 20x20 pixel image with a field of view of $10 MG/c^2$."
   ],
   "metadata": {}
  },
  {
   "outputs": [],
   "cell_type": "code",
   "source": [
    "image_model = ImageModel(emission_model)\n",
    "sze = 20\n",
    "ρmax = 10e0\n",
    "pixels = zeros(Float64, 2, sze*sze)\n",
    "for (iiter, i) in enumerate(range(-ρmax, ρmax, sze))\n",
    "    for (jiter, j) in enumerate(range(-ρmax, ρmax, sze))\n",
    "        pixels[1,iiter+(jiter-1)*sze] = Float64(i)\n",
    "        pixels[2,iiter+(jiter-1)*sze] = Float64(j)\n",
    "    end\n",
    "end"
   ],
   "metadata": {},
   "execution_count": 5
  },
  {
   "cell_type": "markdown",
   "source": [
    "Lets see what our emission model looks like before and after raytracing."
   ],
   "metadata": {}
  },
  {
   "outputs": [],
   "cell_type": "code",
   "source": [
    "using CairoMakie\n",
    "curr_theme = Theme(\n",
    "    Axis = (xticksvisible=false, xticklabelsvisible=false, yticksvisible=false, yticklabelsvisible=false,),\n",
    "    Heatmap =(colormap=:afmhot, ),\n",
    ")\n",
    "set_theme!(merge(curr_theme, theme_latexfonts()))\n",
    "\n",
    "emitted_intensity = reshape(emission_model(pixels, ps, st)[1], sze, sze)\n",
    "received_intensity = reshape(image_model(pixels, ps, st)[1], sze, sze)\n",
    "\n",
    "fig = Figure();\n",
    "heatmap!(Axis(fig[1,1], aspect=1, title=\"Emission Model\"), emitted_intensity)\n",
    "heatmap!(Axis(fig[1,2], aspect=1, title=\"Image Model (Lensed Emission Model)\"), received_intensity)\n",
    "save(\"emission_model_and_target_model.png\", fig)"
   ],
   "metadata": {},
   "execution_count": 6
  },
  {
   "cell_type": "markdown",
   "source": [
    "![image](emission_model_and_target_model.png)"
   ],
   "metadata": {}
  },
  {
   "cell_type": "markdown",
   "source": [
    "This will be the image we will try to fit our model to."
   ],
   "metadata": {}
  },
  {
   "outputs": [],
   "cell_type": "code",
   "source": [
    "target_img = reshape(received_intensity, 1, sze*sze);"
   ],
   "metadata": {},
   "execution_count": 7
  },
  {
   "cell_type": "markdown",
   "source": [
    "## Fitting the model\n",
    "Lets fit our model using the normalized cross correlation as a kernel for our loss function."
   ],
   "metadata": {}
  },
  {
   "outputs": [
    {
     "name": "stdout",
     "output_type": "stream",
     "text": [
      "WARNING: using ComponentArrays.Axis in module ##131434 conflicts with an existing identifier.\n"
     ]
    }
   ],
   "cell_type": "code",
   "source": [
    "using Enzyme\n",
    "using Optimization\n",
    "using OptimizationOptimisers\n",
    "using StatsBase\n",
    "using ComponentArrays\n",
    "Enzyme.Compiler.RunAttributor[] = false\n",
    "\n",
    "function mse(img1::Matrix{T}, img2::Matrix{T}) where T\n",
    "    mean(((img1 ./ sum(img1))  .- (img2 ./ sum(img2))) .^ 2)\n",
    "end\n",
    "\n",
    "function loss_function(pixels, y, ps, st)\n",
    "    y_pred, st = image_model(pixels, ps, st)\n",
    "    mse(y, y_pred), st\n",
    "end\n",
    "\n",
    "mse(target_img, target_img)\n",
    "\n",
    "ps, st = Lux.setup(rng, emission_model);\n",
    "image_model = ImageModel(emission_model);\n",
    "\n",
    "emitted_intensity = reshape(emission_model(pixels, ps, st)[1], sze, sze)\n",
    "received_intensity = reshape(image_model(pixels, ps, st)[1], sze, sze)\n",
    "loss_function(pixels, target_img, ps, st)\n",
    "\n",
    "fig = Figure();\n",
    "heatmap!(Axis(fig[1,1], aspect=1, title=\"Emission Model\"), emitted_intensity, colormap=:afmhot)\n",
    "heatmap!(Axis(fig[1,2], aspect=1, title=\"Imgage Model (Lensed Emission Model)\"), received_intensity, colormap=:afmhot)\n",
    "save(\"emission_model_and_image_model.png\", fig)"
   ],
   "metadata": {},
   "execution_count": 8
  },
  {
   "cell_type": "markdown",
   "source": [
    "![image](emission_model_and_image_model.png)"
   ],
   "metadata": {}
  },
  {
   "outputs": [
    {
     "name": "stdout",
     "output_type": "stream",
     "text": [
      "[ Info: On step 100 loss = 1.588220759905519e-9\n",
      "[ Info: On step 200 loss = 1.2093943598385239e-9\n",
      "[ Info: On step 300 loss = 9.61118440242547e-10\n",
      "[ Info: On step 400 loss = 7.738415581577805e-10\n",
      "[ Info: On step 500 loss = 6.292009063377426e-10\n",
      "[ Info: On step 600 loss = 5.157069395915796e-10\n",
      "[ Info: On step 700 loss = 4.2459399126119284e-10\n",
      "[ Info: On step 800 loss = 3.515110134967691e-10\n",
      "[ Info: On step 900 loss = 2.9473785989042027e-10\n",
      "[ Info: On step 1000 loss = 2.4997508765914845e-10\n",
      "[ Info: On step 1100 loss = 2.1456974654309208e-10\n",
      "[ Info: On step 1200 loss = 1.8654323205926373e-10\n",
      "[ Info: On step 1300 loss = 1.643391114698262e-10\n",
      "[ Info: On step 1400 loss = 1.4671894640662905e-10\n",
      "[ Info: On step 1500 loss = 1.3269596654754334e-10\n",
      "[ Info: On step 1600 loss = 1.2148607326280912e-10\n",
      "[ Info: On step 1700 loss = 1.1246918495087682e-10\n",
      "[ Info: On step 1800 loss = 1.0515774180917003e-10\n",
      "[ Info: On step 1900 loss = 9.917068885764429e-11\n",
      "[ Info: On step 2000 loss = 9.421193827376228e-11\n",
      "[ Info: On step 2100 loss = 9.005262965300176e-11\n",
      "[ Info: On step 2200 loss = 8.651665065264808e-11\n",
      "[ Info: On step 2300 loss = 8.34689473644904e-11\n",
      "[ Info: On step 2400 loss = 8.080619372777278e-11\n",
      "[ Info: On step 2500 loss = 7.844942530883786e-11\n",
      "[ Info: On step 2600 loss = 7.633828258090628e-11\n",
      "[ Info: On step 2700 loss = 7.442655271042441e-11\n",
      "[ Info: On step 2800 loss = 7.26787442783443e-11\n",
      "[ Info: On step 2900 loss = 7.106747346423969e-11\n",
      "[ Info: On step 3000 loss = 6.957148079302444e-11\n",
      "[ Info: On step 3100 loss = 6.817413329418412e-11\n",
      "[ Info: On step 3200 loss = 6.686229736010816e-11\n",
      "[ Info: On step 3300 loss = 6.562549279887397e-11\n",
      "[ Info: On step 3400 loss = 6.445525899621486e-11\n",
      "[ Info: On step 3500 loss = 6.334468034443786e-11\n",
      "[ Info: On step 3600 loss = 6.228803082664859e-11\n",
      "[ Info: On step 3700 loss = 6.128050750098717e-11\n",
      "[ Info: On step 3800 loss = 6.031803018382362e-11\n",
      "[ Info: On step 3900 loss = 5.939709037232242e-11\n",
      "[ Info: On step 4000 loss = 5.851463678011321e-11\n",
      "[ Info: On step 4100 loss = 5.766798811150059e-11\n",
      "[ Info: On step 4200 loss = 5.685476612798195e-11\n",
      "[ Info: On step 4300 loss = 5.607284386718227e-11\n",
      "[ Info: On step 4400 loss = 5.5320305213576933e-11\n",
      "[ Info: On step 4500 loss = 5.459541301080327e-11\n",
      "[ Info: On step 4600 loss = 5.3896583636293436e-11\n",
      "[ Info: On step 4700 loss = 5.3222366497589645e-11\n",
      "[ Info: On step 4800 loss = 5.2571427306180673e-11\n",
      "[ Info: On step 4900 loss = 5.194253427644007e-11\n",
      "[ Info: On step 5000 loss = 5.1334546611889435e-11\n"
     ]
    }
   ],
   "cell_type": "code",
   "source": [
    "mutable struct Callback\n",
    "    counter::Int\n",
    "    stride::Int\n",
    "    const f::Function\n",
    "end\n",
    "Callback(stride, f) = Callback(0, stride, f)\n",
    "function (c::Callback)(state, loss, others...)\n",
    "    c.counter += 1\n",
    "    if c.counter % c.stride == 0\n",
    "        @info \"On step $(c.counter) loss = $(loss)\"\n",
    "        return false\n",
    "    else\n",
    "        return false\n",
    "    end\n",
    "end\n",
    "\n",
    "ps_trained, st_trained = let st=Ref(st), x=pixels, y=reshape(target_img, 1, sze*sze)\n",
    "\n",
    "    optprob = Optimization.OptimizationProblem(\n",
    "        Optimization.OptimizationFunction(\n",
    "            function(ps, constants)\n",
    "                loss, st[] = loss_function(x, y, ps, st[])\n",
    "                loss\n",
    "            end,\n",
    "            Optimization.AutoEnzyme()\n",
    "        ),\n",
    "        ComponentArrays.ComponentVector{Float64}(ps)\n",
    "    )\n",
    "\n",
    "    solution = Optimization.solve(\n",
    "        optprob,\n",
    "        OptimizationOptimisers.Adam(),\n",
    "        maxiters = 5_000,\n",
    "    callback=Callback(100,()->nothing)\n",
    "    )\n",
    "\n",
    "    solution.u, st[]\n",
    "end\n",
    "\n",
    "received_intensity, st = ((x) -> (reshape(x[1], sze, sze), x[2]))(image_model(pixels, ps_trained, st_trained))\n",
    "acc_intensity, st = ((x) -> (reshape(x[1], sze, sze), x[2]))(image_model(pixels, ps, st))\n",
    "loss_function(pixels, target_img, ps, st)\n",
    "loss_function(pixels, target_img, ps_trained, st_trained)\n",
    "using Printf\n",
    "begin\n",
    "    fig = Figure(size=(700, 300));\n",
    "    heatmap!(Axis(fig[1,1], aspect=1, title=\"Target Image\"), reshape(target_img, sze, sze))\n",
    "    heatmap!(Axis(fig[1,2], aspect=1, title=\"Starting State (loss=$(@sprintf(\"%0.2e\", loss_function(pixels, target_img, ps, st)[1])))\"), acc_intensity)\n",
    "    heatmap!(Axis(fig[1,3], aspect=1, title=\"Fitted State (loss=$(@sprintf(\"%0.2e\", loss_function(pixels, target_img, ps_trained, st_trained)[1])))\"), received_intensity)\n",
    "    save(\"neural_net_results.png\", fig)\n",
    "end"
   ],
   "metadata": {},
   "execution_count": 9
  },
  {
   "cell_type": "markdown",
   "source": [
    "![image](neural_net_results.png)"
   ],
   "metadata": {}
  },
  {
   "cell_type": "markdown",
   "source": [
    "---\n",
    "\n",
    "*This notebook was generated using [Literate.jl](https://github.com/fredrikekre/Literate.jl).*"
   ],
   "metadata": {}
  }
 ],
 "nbformat_minor": 3,
 "metadata": {
  "language_info": {
   "file_extension": ".jl",
   "mimetype": "application/julia",
   "name": "julia",
   "version": "1.10.5"
  },
  "kernelspec": {
   "name": "julia-1.10",
   "display_name": "Julia 1.10.5",
   "language": "julia"
  }
 },
 "nbformat": 4
}
