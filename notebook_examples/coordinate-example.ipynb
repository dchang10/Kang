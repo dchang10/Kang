{
 "cells": [
  {
   "cell_type": "markdown",
   "source": [
    "# Raytracing with inclination"
   ],
   "metadata": {}
  },
  {
   "cell_type": "markdown",
   "source": [
    "This example shows how to access coordinate information from the raytracing process.\n",
    "You will likely need to do this when making custom physics `materials`.\n",
    "We will raytrace a sequence of cones in the region around a Kerr black hole as seen by an observer stationed at infinity.\n",
    "We will show the emission coordinates of the n=0 (direct) and n=1 (indirect) photons that are emitted from the\n",
    "source, at a fixed inclination angles with respect to the black hole's spin axis.\n",
    "\n",
    "First, let's import Krang and CairoMakie for plotting."
   ],
   "metadata": {}
  },
  {
   "outputs": [],
   "cell_type": "code",
   "source": [
    "using Krang\n",
    "using CairoMakie\n",
    "\n",
    "curr_theme = Theme(\n",
    "    Axis = (\n",
    "        xticksvisible = false,\n",
    "        xticklabelsvisible = false,\n",
    "        yticksvisible = false,\n",
    "        yticklabelsvisible = false,\n",
    "        aspect=1\n",
    "        ),\n",
    "    Heatmap = (\n",
    "        rasterize=true,\n",
    "    )\n",
    ")\n",
    "set_theme!(merge!(curr_theme, theme_latexfonts()))"
   ],
   "metadata": {},
   "execution_count": 1
  },
  {
   "cell_type": "markdown",
   "source": [
    "We will use a 0.99 spin Kerr black hole viewed by an asymptotic observer at an inclination angle of θo=π/4.\n",
    "A region spanned by radii between the horizon and 20M at varying inclinations will be raytraced onto the 20Mx20M\n",
    "screen of the observer."
   ],
   "metadata": {}
  },
  {
   "outputs": [],
   "cell_type": "code",
   "source": [
    "metric = Krang.Kerr(0.99); # Kerr metric with a spin of 0.99\n",
    "θo = 45 * π / 180; # inclination angle of the observer. θo ∈ (0, π)\n",
    "sze = 400; # resolution of the screen is sze x sze\n",
    "rmin = Krang.horizon(metric); # minimum radius to be raytraced\n",
    "rmax = 10.0; # maximum radius to be raytraced\n",
    "ρmax = 15.0; # horizontal and vertical limits of the screen"
   ],
   "metadata": {},
   "execution_count": 2
  },
  {
   "cell_type": "markdown",
   "source": [
    "Create Figure"
   ],
   "metadata": {}
  },
  {
   "outputs": [
    {
     "name": "stdout",
     "output_type": "stream",
     "text": [
      "┌ Warning: Found `resolution` in the theme when creating a `Scene`. The `resolution` keyword for `Scene`s and `Figure`s has been deprecated. Use `Figure(; size = ...` or `Scene(; size = ...)` instead, which better reflects that this is a unitless size and not a pixel resolution. The key could also come from `set_theme!` calls or related theming functions.\n",
      "└ @ Makie ~/.julia/packages/Makie/YkotL/src/scenes.jl:229\n"
     ]
    },
    {
     "output_type": "execute_result",
     "data": {
      "text/plain": "3-element Vector{Vector{Makie.Axis}}:\n [Axis (0 plots), Axis (0 plots), Axis (0 plots)]\n [Axis (0 plots), Axis (0 plots), Axis (0 plots)]\n [Axis (0 plots), Axis (0 plots), Axis (0 plots)]"
     },
     "metadata": {},
     "execution_count": 3
    }
   ],
   "cell_type": "code",
   "source": [
    "fig = Figure(resolution=(700, 700));\n",
    "axes_list = [\n",
    "    [\n",
    "        Axis(fig[i, 1], title=(i==1 ? \"Regularized Time\" : \"\"), titlesize=20, ylabel=(i==1 ? L\"n=0\" : i==2 ? L\"n=1\" : L\"n=2\"), ylabelsize=20),\n",
    "        Axis(fig[i, 2], title=(i==1 ? \"Radius\" : \"\"), titlesize=20),\n",
    "        Axis(fig[i, 3], title=(i==1 ? \"Azimuth\" : \"\"), titlesize=20),\n",
    "    ] for i in 1:3\n",
    "]"
   ],
   "metadata": {},
   "execution_count": 3
  },
  {
   "cell_type": "markdown",
   "source": [
    "Initialize Camera and Pre-Allocate Memory for data to be plotted"
   ],
   "metadata": {}
  },
  {
   "outputs": [
    {
     "output_type": "execute_result",
     "data": {
      "text/plain": "((-20, 20), (0, 10.0), (0, 6.283185307179586))"
     },
     "metadata": {},
     "execution_count": 4
    }
   ],
   "cell_type": "code",
   "source": [
    "coordinates = (zeros(sze, sze) for _ in 1:3)\n",
    "camera = Krang.SlowLightIntensityCamera(metric, θo, -ρmax, ρmax, -ρmax, ρmax, sze, A=Matrix);\n",
    "colormaps = (:afmhot, :afmhot, :hsv)\n",
    "colorrange = ((-20, 20), (0, rmax), (0, 2π))"
   ],
   "metadata": {},
   "execution_count": 4
  },
  {
   "cell_type": "markdown",
   "source": [
    "Let's define a function that will return the coordinates of a ray when it intersects with a cone of opening angle $\\theta_s$.\n",
    "We will includes some basic occlusion effects by checking if the ray intersects with the cone on the 'far-side' or the 'near-side'."
   ],
   "metadata": {}
  },
  {
   "outputs": [
    {
     "output_type": "execute_result",
     "data": {
      "text/plain": "coordinate_point (generic function with 1 method)"
     },
     "metadata": {},
     "execution_count": 5
    }
   ],
   "cell_type": "code",
   "source": [
    "function coordinate_point(pix::Krang.AbstractPixel, geometry::Krang.ConeGeometry{T,A}) where {T, A}\n",
    "    n, rmin, rmax = geometry.attributes\n",
    "    θs = geometry.opening_angle\n",
    "\n",
    "    coords = ntuple(j -> zero(T), Val(4))\n",
    "\n",
    "    isindir = false\n",
    "    for _ in 1:2 # Looping over isindir this way is needed to get Metal to work\n",
    "        isindir ⊻= true\n",
    "        ts, rs, θs, ϕs =  emission_coordinates(pix, geometry.opening_angle, isindir, n)\n",
    "        if rs ≤ rmin || rs ≥ rmax\n",
    "            continue\n",
    "        end\n",
    "        coords = isnan(rs) ? observation :  (ts, rs, θs, ϕs)\n",
    "    end\n",
    "    return coords\n",
    "end"
   ],
   "metadata": {},
   "execution_count": 5
  },
  {
   "cell_type": "markdown",
   "source": [
    "Draw Function\n",
    "This function draws the coordinates associated with the n=0,1,2 subimages of a cone with opening angle θs."
   ],
   "metadata": {}
  },
  {
   "outputs": [
    {
     "output_type": "execute_result",
     "data": {
      "text/plain": "draw! (generic function with 1 method)"
     },
     "metadata": {},
     "execution_count": 6
    }
   ],
   "cell_type": "code",
   "source": [
    "function draw!(axes_list, camera, coordinates, rmin, rmax, θs)\n",
    "    times, radii, azimuths = coordinates\n",
    "    map(axes -> empty!.(axes), axes_list)\n",
    "\n",
    "    geometries = (Krang.ConeGeometry(θs, (i, rmin, rmax)) for i in 0:2)\n",
    "\n",
    "    for (i, geometry) in enumerate(geometries)\n",
    "        rendered_scene = coordinate_point.(camera.screen.pixels, Ref(geometry))\n",
    "        for I in CartesianIndices(rendered_scene)\n",
    "            times[I] = rendered_scene[I][1]\n",
    "            radii[I] = rendered_scene[I][2]\n",
    "            azimuths[I] = rendered_scene[I][4]\n",
    "        end\n",
    "        coordinates = (times, radii, mod2pi.(azimuths ))\n",
    "        for j in 1:3\n",
    "            heatmap!(axes_list[i][j], coordinates[j], colormap = colormaps[j], colorrange=colorrange[j])\n",
    "        end\n",
    "    end\n",
    "end"
   ],
   "metadata": {},
   "execution_count": 6
  },
  {
   "cell_type": "markdown",
   "source": [
    "Create the animation of Cone of Emission Coordinates"
   ],
   "metadata": {}
  },
  {
   "outputs": [
    {
     "output_type": "execute_result",
     "data": {
      "text/plain": "\"coordinate.gif\""
     },
     "metadata": {},
     "execution_count": 7
    }
   ],
   "cell_type": "code",
   "source": [
    "recording = CairoMakie.record(fig, \"coordinate.gif\", range(0.0, π, length=180), framerate=12) do θs\n",
    "    draw!(axes_list, camera, coordinates, rmin, rmax, θs)\n",
    "end"
   ],
   "metadata": {},
   "execution_count": 7
  },
  {
   "cell_type": "markdown",
   "source": [
    "![Emission coordinates of cones](coordinate.gif)"
   ],
   "metadata": {}
  },
  {
   "cell_type": "markdown",
   "source": [
    "> [!IMPORTANT]\n",
    "> The GPU can be used in this example with an appropriate broadcast.\n",
    "\n",
    "```julia\n",
    "using CUDA\n",
    "\n",
    "rendered_scene = coordinate_point.(CuArray(camera.screen.pixels), Ref(geometry))\n",
    "```"
   ],
   "metadata": {}
  },
  {
   "cell_type": "markdown",
   "source": [
    "---\n",
    "\n",
    "*This notebook was generated using [Literate.jl](https://github.com/fredrikekre/Literate.jl).*"
   ],
   "metadata": {}
  }
 ],
 "nbformat_minor": 3,
 "metadata": {
  "language_info": {
   "file_extension": ".jl",
   "mimetype": "application/julia",
   "name": "julia",
   "version": "1.10.5"
  },
  "kernelspec": {
   "name": "julia-1.10",
   "display_name": "Julia 1.10.5",
   "language": "julia"
  }
 },
 "nbformat": 4
}
